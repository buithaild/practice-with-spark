{
  "nbformat": 4,
  "nbformat_minor": 0,
  "metadata": {
    "colab": {
      "provenance": [],
      "authorship_tag": "ABX9TyPsH2niBiYX97amPuJuFgaW",
      "include_colab_link": true
    },
    "kernelspec": {
      "name": "python3",
      "display_name": "Python 3"
    },
    "language_info": {
      "name": "python"
    }
  },
  "cells": [
    {
      "cell_type": "markdown",
      "metadata": {
        "id": "view-in-github",
        "colab_type": "text"
      },
      "source": [
        "<a href=\"https://colab.research.google.com/github/buithaild/practice-with-spark/blob/master/word_count_using_spark.ipynb\" target=\"_parent\"><img src=\"https://colab.research.google.com/assets/colab-badge.svg\" alt=\"Open In Colab\"/></a>"
      ]
    },
    {
      "cell_type": "code",
      "execution_count": null,
      "metadata": {
        "id": "E4VtL2akYB6N"
      },
      "outputs": [],
      "source": [
        "from pyspark.sql import SparkSession\n",
        "import getpass"
      ]
    },
    {
      "cell_type": "code",
      "source": [
        "username = getpass.getuser()\n",
        "spark = SparkSession.builder.appName(\"Python Spark SQL basic example\").getOrCreate()"
      ],
      "metadata": {
        "id": "IPN3CujpaKwZ"
      },
      "execution_count": null,
      "outputs": []
    },
    {
      "cell_type": "code",
      "source": [
        "rdd1 = spark.sparkContext.textFile('/content/world_count.txt')\n",
        "rdd1.collect()"
      ],
      "metadata": {
        "colab": {
          "base_uri": "https://localhost:8080/"
        },
        "id": "tW__AA6Da3wa",
        "outputId": "404be3c8-7bd5-482d-e77f-b37338f92512"
      },
      "execution_count": null,
      "outputs": [
        {
          "output_type": "execute_result",
          "data": {
            "text/plain": [
              "['big data is very interesting, big data is one of the most trending tech',\n",
              " 'my name is Thai',\n",
              " 'I am a Data Engineer']"
            ]
          },
          "metadata": {},
          "execution_count": 5
        }
      ]
    },
    {
      "cell_type": "code",
      "source": [
        "rdd2 = rdd1.flatMap(lambda x: x.split(\" \"))\n",
        "rdd2.collect()\n",
        "#split bởi dấu cách giữa các từ"
      ],
      "metadata": {
        "colab": {
          "base_uri": "https://localhost:8080/"
        },
        "id": "B6CvWfGgbb42",
        "outputId": "749a0033-446b-4e7c-86a5-112cdcc57fc3"
      },
      "execution_count": null,
      "outputs": [
        {
          "output_type": "execute_result",
          "data": {
            "text/plain": [
              "['big',\n",
              " 'data',\n",
              " 'is',\n",
              " 'very',\n",
              " 'interesting,',\n",
              " 'big',\n",
              " 'data',\n",
              " 'is',\n",
              " 'one',\n",
              " 'of',\n",
              " 'the',\n",
              " 'most',\n",
              " 'trending',\n",
              " 'tech',\n",
              " 'my',\n",
              " 'name',\n",
              " 'is',\n",
              " 'Thai',\n",
              " 'I',\n",
              " 'am',\n",
              " 'a',\n",
              " 'Data',\n",
              " 'Engineer']"
            ]
          },
          "metadata": {},
          "execution_count": 10
        }
      ]
    },
    {
      "cell_type": "code",
      "source": [
        "rdd3 = rdd2.map(lambda word: (word, 1))\n",
        "rdd3.collect()"
      ],
      "metadata": {
        "colab": {
          "base_uri": "https://localhost:8080/"
        },
        "id": "YiyjWlgYcG7K",
        "outputId": "93a47974-dfd2-4b43-e80e-c8e3de2bbe82"
      },
      "execution_count": null,
      "outputs": [
        {
          "output_type": "execute_result",
          "data": {
            "text/plain": [
              "[('big', 1),\n",
              " ('data', 1),\n",
              " ('is', 1),\n",
              " ('very', 1),\n",
              " ('interesting,', 1),\n",
              " ('big', 1),\n",
              " ('data', 1),\n",
              " ('is', 1),\n",
              " ('one', 1),\n",
              " ('of', 1),\n",
              " ('the', 1),\n",
              " ('most', 1),\n",
              " ('trending', 1),\n",
              " ('tech', 1),\n",
              " ('my', 1),\n",
              " ('name', 1),\n",
              " ('is', 1),\n",
              " ('Thai', 1),\n",
              " ('I', 1),\n",
              " ('am', 1),\n",
              " ('a', 1),\n",
              " ('Data', 1),\n",
              " ('Engineer', 1)]"
            ]
          },
          "metadata": {},
          "execution_count": 13
        }
      ]
    },
    {
      "cell_type": "code",
      "source": [
        "rdd4 = rdd3.reduceByKey(lambda x,y: x+y)\n",
        "rdd4.collect()"
      ],
      "metadata": {
        "colab": {
          "base_uri": "https://localhost:8080/"
        },
        "id": "L32SK5xucRA8",
        "outputId": "e1fc9304-7cdf-44e1-c80f-0e52efc5459f"
      },
      "execution_count": null,
      "outputs": [
        {
          "output_type": "execute_result",
          "data": {
            "text/plain": [
              "[('is', 3),\n",
              " ('very', 1),\n",
              " ('interesting,', 1),\n",
              " ('of', 1),\n",
              " ('trending', 1),\n",
              " ('name', 1),\n",
              " ('Thai', 1),\n",
              " ('am', 1),\n",
              " ('Engineer', 1),\n",
              " ('big', 2),\n",
              " ('data', 2),\n",
              " ('one', 1),\n",
              " ('the', 1),\n",
              " ('most', 1),\n",
              " ('tech', 1),\n",
              " ('my', 1),\n",
              " ('I', 1),\n",
              " ('a', 1),\n",
              " ('Data', 1)]"
            ]
          },
          "metadata": {},
          "execution_count": 14
        }
      ]
    }
  ]
}